{
 "cells": [
  {
   "cell_type": "code",
   "execution_count": 1,
   "id": "a5663c77-c26d-4431-b1b8-5b04f262a324",
   "metadata": {},
   "outputs": [
    {
     "name": "stdout",
     "output_type": "stream",
     "text": [
      "Python 3.11.7\n"
     ]
    }
   ],
   "source": [
    "!python --version"
   ]
  },
  {
   "cell_type": "code",
   "execution_count": 6,
   "id": "3233f212-6b15-46cc-a431-9aef1f825d2d",
   "metadata": {},
   "outputs": [
    {
     "name": "stderr",
     "output_type": "stream",
     "text": [
      "/usr/local/lib/vmd/vmd_LINUXAMD64: /usr/lib/x86_64-linux-gnu/libGL.so.1: no version information available (required by /usr/local/lib/vmd/vmd_LINUXAMD64)\n"
     ]
    },
    {
     "name": "stdout",
     "output_type": "stream",
     "text": [
      "Info) VMD for LINUXAMD64, version 1.9.4a37 (August 27, 2019)\n",
      "Info) http://www.ks.uiuc.edu/Research/vmd/                         \n",
      "Info) Email questions and bug reports to vmd@ks.uiuc.edu           \n",
      "Info) Please include this reference in published work using VMD:   \n",
      "Info)    Humphrey, W., Dalke, A. and Schulten, K., `VMD - Visual   \n",
      "Info)    Molecular Dynamics', J. Molec. Graphics 1996, 14.1, 33-38.\n",
      "Info) -------------------------------------------------------------\n",
      "Info) Multithreading available, 6 CPUs detected.\n",
      "Info)   CPU features: SSE2 AVX AVX2 FMA \n",
      "Info) Free system memory: 2467MB (31%)\n",
      "Info) No CUDA accelerator devices available.\n",
      "Warning) Detected X11 'Composite' extension: if incorrect display occurs\n",
      "Warning) try disabling this X server option.  Most OpenGL drivers\n",
      "Warning) disable stereoscopic display when 'Composite' is enabled.\n",
      "Info) OpenGL renderer: Mesa Intel(R) UHD Graphics 630 (CFL GT2)\n",
      "Info)   Features: STENCIL MSAA(4) MDE CVA MTX NPOT PP PS GLSL(OVFS) \n",
      "Info)   Full GLSL rendering mode is available.\n",
      "Info)   Textures: 2-D (16384x16384), 3-D (512x512x512), Multitexture (8)\n",
      "Info) Dynamically loaded 3 plugins in directory:\n",
      "Info) /usr/local/lib/vmd/plugins/LINUXAMD64/molfile\n",
      "OptiXRenderer) ERROR: Failed to load the OptiX shared library.\n",
      "OptiXRenderer)        NVIDIA driver may be too old.\n",
      "OptiXRenderer)        Check/update NVIDIA driver\n",
      "Info) File loading in progress, please wait.\n",
      "Info) Using plugin pdb for structure file nibulk.pdb\n",
      "Info) Using plugin pdb for coordinates from file nibulk.pdb\n",
      "Info) Determining bond structure from distance search ...\n",
      "Info) Finished with coordinate file nibulk.pdb.\n",
      "Info) Analyzing structure ...\n",
      "Info)    Atoms: 250\n",
      "Info)    Bonds: 0\n",
      "Info)    Angles: 0  Dihedrals: 0  Impropers: 0  Cross-terms: 0\n",
      "Info)    Bondtypes: 0  Angletypes: 0  Dihedraltypes: 0  Impropertypes: 0\n",
      "Info)    Residues: 250\n",
      "Info)    Waters: 0\n",
      "Info)    Segments: 1\n",
      "Info)    Fragments: 250   Protein: 0   Nucleic: 0\n",
      "Info) VMD for LINUXAMD64, version 1.9.4a37 (August 27, 2019)\n",
      "Info) Exiting normally.\n"
     ]
    },
    {
     "data": {
      "text/plain": [
       "CompletedProcess(args=['vmd', 'nibulk.pdb'], returncode=0)"
      ]
     },
     "execution_count": 6,
     "metadata": {},
     "output_type": "execute_result"
    }
   ],
   "source": [
    "from ase.build import bulk\n",
    "from ase.visualize import view\n",
    "from ase.io import write\n",
    "import subprocess\n",
    "\n",
    "ni_bulk = bulk(name='Ni', crystalstructure='fcc', a=3.52, orthorhombic=True)\n",
    "ni_bulk = ni_bulk.repeat((5, 5, 5))\n",
    "write('nibulk.pdb', ni_bulk)\n",
    "view(ni_bulk)\n",
    "subprocess.run(['vmd', 'nibulk.pdb'])"
   ]
  },
  {
   "cell_type": "code",
   "execution_count": 3,
   "id": "38af163b-5d70-464b-91a7-95db8f449cb0",
   "metadata": {},
   "outputs": [],
   "source": [
    "from ase.build import fcc111, fcc100, fcc110\n",
    "from ase.io import write\n",
    "import numpy as np\n",
    "import subprocess\n",
    "\n",
    "a = 3.52  \n",
    "size = (6, 6, 3)\n",
    "vacuum = 10.0\n",
    "Nifcc100 = fcc100('Ni', size, a=a, vacuum=vacuum, orthogonal=True)\n",
    "Nifcc110 = fcc110('Ni', size, a=a, vacuum=vacuum, orthogonal=True)\n",
    "Nifcc111 = fcc111('Ni', size, a=a, vacuum=vacuum, orthogonal=True)\n",
    "\n",
    "write('Nifcc100.pdb', Nifcc100)\n",
    "write('Nifcc110.pdb', Nifcc110)\n",
    "write('Nifcc111.pdb', Nifcc111)\n",
    "\n"
   ]
  },
  {
   "cell_type": "code",
   "execution_count": 4,
   "id": "afc11b97-3ae6-494a-be0a-a4f21d48a948",
   "metadata": {},
   "outputs": [
    {
     "data": {
      "text/plain": [
       "<Popen: returncode: None args: ['/home/anusha/anaconda3/bin/python', '-m', '...>"
      ]
     },
     "execution_count": 4,
     "metadata": {},
     "output_type": "execute_result"
    }
   ],
   "source": [
    "view(Nifcc100)"
   ]
  },
  {
   "cell_type": "code",
   "execution_count": 10,
   "id": "51900d17-3f84-479f-bfa0-f5e0e1bb7e68",
   "metadata": {},
   "outputs": [
    {
     "data": {
      "text/plain": [
       "<Popen: returncode: None args: ['/home/anusha/anaconda3/bin/python', '-m', '...>"
      ]
     },
     "execution_count": 10,
     "metadata": {},
     "output_type": "execute_result"
    }
   ],
   "source": [
    "view(Nifcc110)"
   ]
  },
  {
   "cell_type": "code",
   "execution_count": 11,
   "id": "feecc3d8-83ae-4f2e-8827-475bf388a29c",
   "metadata": {},
   "outputs": [
    {
     "data": {
      "text/plain": [
       "<Popen: returncode: None args: ['/home/anusha/anaconda3/bin/python', '-m', '...>"
      ]
     },
     "execution_count": 11,
     "metadata": {},
     "output_type": "execute_result"
    }
   ],
   "source": [
    "view(Nifcc111)"
   ]
  },
  {
   "cell_type": "code",
   "execution_count": 12,
   "id": "8a067053-2ea4-4ada-a84f-93c65a7347f8",
   "metadata": {},
   "outputs": [
    {
     "name": "stderr",
     "output_type": "stream",
     "text": [
      "/usr/local/lib/vmd/vmd_LINUXAMD64: /usr/lib/x86_64-linux-gnu/libGL.so.1: no version information available (required by /usr/local/lib/vmd/vmd_LINUXAMD64)\n"
     ]
    },
    {
     "name": "stdout",
     "output_type": "stream",
     "text": [
      "Info) VMD for LINUXAMD64, version 1.9.4a37 (August 27, 2019)\n",
      "Info) http://www.ks.uiuc.edu/Research/vmd/                         \n",
      "Info) Email questions and bug reports to vmd@ks.uiuc.edu           \n",
      "Info) Please include this reference in published work using VMD:   \n",
      "Info)    Humphrey, W., Dalke, A. and Schulten, K., `VMD - Visual   \n",
      "Info)    Molecular Dynamics', J. Molec. Graphics 1996, 14.1, 33-38.\n",
      "Info) -------------------------------------------------------------\n",
      "Info) Multithreading available, 6 CPUs detected.\n",
      "Info)   CPU features: SSE2 AVX AVX2 FMA \n",
      "Info) Free system memory: 4770MB (61%)\n",
      "Info) No CUDA accelerator devices available.\n",
      "Warning) Detected X11 'Composite' extension: if incorrect display occurs\n",
      "Warning) try disabling this X server option.  Most OpenGL drivers\n",
      "Warning) disable stereoscopic display when 'Composite' is enabled.\n",
      "Info) OpenGL renderer: Mesa Intel(R) UHD Graphics 630 (CFL GT2)\n",
      "Info)   Features: STENCIL MSAA(4) MDE CVA MTX NPOT PP PS GLSL(OVFS) \n",
      "Info)   Full GLSL rendering mode is available.\n",
      "Info)   Textures: 2-D (16384x16384), 3-D (512x512x512), Multitexture (8)\n",
      "Info) Dynamically loaded 3 plugins in directory:\n",
      "Info) /usr/local/lib/vmd/plugins/LINUXAMD64/molfile\n",
      "OptiXRenderer) ERROR: Failed to load the OptiX shared library.\n",
      "OptiXRenderer)        NVIDIA driver may be too old.\n",
      "OptiXRenderer)        Check/update NVIDIA driver\n",
      "Info) File loading in progress, please wait.\n",
      "Info) Using plugin pdb for structure file ptbulk.pdb\n",
      "Info) Using plugin pdb for coordinates from file ptbulk.pdb\n",
      "Info) Determining bond structure from distance search ...\n",
      "Info) Finished with coordinate file ptbulk.pdb.\n",
      "Info) Analyzing structure ...\n",
      "Info)    Atoms: 250\n",
      "Info)    Bonds: 0\n",
      "Info)    Angles: 0  Dihedrals: 0  Impropers: 0  Cross-terms: 0\n",
      "Info)    Bondtypes: 0  Angletypes: 0  Dihedraltypes: 0  Impropertypes: 0\n",
      "Info)    Residues: 250\n",
      "Info)    Waters: 0\n",
      "Info)    Segments: 1\n",
      "Info)    Fragments: 250   Protein: 0   Nucleic: 0\n",
      "Info) VMD for LINUXAMD64, version 1.9.4a37 (August 27, 2019)\n",
      "Info) Exiting normally.\n"
     ]
    },
    {
     "data": {
      "text/plain": [
       "CompletedProcess(args=['vmd', 'ptbulk.pdb'], returncode=0)"
      ]
     },
     "execution_count": 12,
     "metadata": {},
     "output_type": "execute_result"
    }
   ],
   "source": [
    "from ase.build import bulk\n",
    "from ase.visualize import view\n",
    "import subprocess\n",
    "\n",
    "pt_bulk = bulk(name='Pt', crystalstructure='fcc', a=3.92, orthorhombic=True)\n",
    "pt_bulk = pt_bulk.repeat((5, 5, 5))\n",
    "write('ptbulk.pdb', pt_bulk)\n",
    "view(pt_bulk)\n",
    "subprocess.run(['vmd', 'ptbulk.pdb'])"
   ]
  },
  {
   "cell_type": "code",
   "execution_count": 13,
   "id": "8877edb5-2c8a-4441-823f-b85cac727fbf",
   "metadata": {},
   "outputs": [],
   "source": [
    "from ase.build import fcc111, fcc100, fcc110\n",
    "from ase.io import write\n",
    "import numpy as np\n",
    "Pt_a = 3.92 \n",
    "size = (6, 6, 3) \n",
    "vacuum = 10.0\n",
    "Ptfcc111 = fcc111('Pt', size, a=Pt_a, vacuum=vacuum, orthogonal=True)\n",
    "Ptfcc100 = fcc100('Pt', size, a=Pt_a, vacuum=vacuum, orthogonal=True)\n",
    "Ptfcc110 = fcc110('Pt', size, a=Pt_a, vacuum=vacuum, orthogonal=True)\n",
    "\n",
    "write('Ptfcc111.pdb', Ptfcc111)\n",
    "write('Ptfcc100.pdb', Ptfcc100)\n",
    "write('Ptfcc110.pdb', Ptfcc110)\n",
    "\n"
   ]
  },
  {
   "cell_type": "code",
   "execution_count": 33,
   "id": "028b0f3a-2879-4df1-873c-9c9fa1173d8e",
   "metadata": {},
   "outputs": [
    {
     "data": {
      "text/plain": [
       "<Popen: returncode: None args: ['/home/anusha/anaconda3/bin/python', '-m', '...>"
      ]
     },
     "execution_count": 33,
     "metadata": {},
     "output_type": "execute_result"
    }
   ],
   "source": [
    "view(Ptfcc100)"
   ]
  },
  {
   "cell_type": "code",
   "execution_count": 34,
   "id": "59f06337-c7e4-402a-8446-779519347070",
   "metadata": {},
   "outputs": [
    {
     "data": {
      "text/plain": [
       "<Popen: returncode: None args: ['/home/anusha/anaconda3/bin/python', '-m', '...>"
      ]
     },
     "execution_count": 34,
     "metadata": {},
     "output_type": "execute_result"
    }
   ],
   "source": [
    "view(Ptfcc110)"
   ]
  },
  {
   "cell_type": "code",
   "execution_count": 35,
   "id": "6b7a666c-a9a4-4ef0-8748-0efbf34e42cf",
   "metadata": {},
   "outputs": [
    {
     "data": {
      "text/plain": [
       "<Popen: returncode: None args: ['/home/anusha/anaconda3/bin/python', '-m', '...>"
      ]
     },
     "execution_count": 35,
     "metadata": {},
     "output_type": "execute_result"
    }
   ],
   "source": [
    "view(Ptfcc111)"
   ]
  },
  {
   "cell_type": "code",
   "execution_count": 14,
   "id": "be1a4dfc-625f-40f0-bd07-7d6225c8b3b5",
   "metadata": {},
   "outputs": [
    {
     "name": "stderr",
     "output_type": "stream",
     "text": [
      "/usr/local/lib/vmd/vmd_LINUXAMD64: /usr/lib/x86_64-linux-gnu/libGL.so.1: no version information available (required by /usr/local/lib/vmd/vmd_LINUXAMD64)\n"
     ]
    },
    {
     "name": "stdout",
     "output_type": "stream",
     "text": [
      "Info) VMD for LINUXAMD64, version 1.9.4a37 (August 27, 2019)\n",
      "Info) http://www.ks.uiuc.edu/Research/vmd/                         \n",
      "Info) Email questions and bug reports to vmd@ks.uiuc.edu           \n",
      "Info) Please include this reference in published work using VMD:   \n",
      "Info)    Humphrey, W., Dalke, A. and Schulten, K., `VMD - Visual   \n",
      "Info)    Molecular Dynamics', J. Molec. Graphics 1996, 14.1, 33-38.\n",
      "Info) -------------------------------------------------------------\n",
      "Info) Multithreading available, 6 CPUs detected.\n",
      "Info)   CPU features: SSE2 AVX AVX2 FMA \n",
      "Info) Free system memory: 4769MB (61%)\n",
      "Info) No CUDA accelerator devices available.\n",
      "Warning) Detected X11 'Composite' extension: if incorrect display occurs\n",
      "Warning) try disabling this X server option.  Most OpenGL drivers\n",
      "Warning) disable stereoscopic display when 'Composite' is enabled.\n",
      "Info) OpenGL renderer: Mesa Intel(R) UHD Graphics 630 (CFL GT2)\n",
      "Info)   Features: STENCIL MSAA(4) MDE CVA MTX NPOT PP PS GLSL(OVFS) \n",
      "Info)   Full GLSL rendering mode is available.\n",
      "Info)   Textures: 2-D (16384x16384), 3-D (512x512x512), Multitexture (8)\n",
      "Info) Dynamically loaded 3 plugins in directory:\n",
      "Info) /usr/local/lib/vmd/plugins/LINUXAMD64/molfile\n",
      "OptiXRenderer) ERROR: Failed to load the OptiX shared library.\n",
      "OptiXRenderer)        NVIDIA driver may be too old.\n",
      "OptiXRenderer)        Check/update NVIDIA driver\n",
      "Info) File loading in progress, please wait.\n",
      "Info) Using plugin pdb for structure file febccbulk.pdb\n",
      "Info) Using plugin pdb for coordinates from file febccbulk.pdb\n",
      "Info) Determining bond structure from distance search ...\n",
      "Info) Finished with coordinate file febccbulk.pdb.\n",
      "Info) Analyzing structure ...\n",
      "Info)    Atoms: 250\n",
      "Info)    Bonds: 0\n",
      "Info)    Angles: 0  Dihedrals: 0  Impropers: 0  Cross-terms: 0\n",
      "Info)    Bondtypes: 0  Angletypes: 0  Dihedraltypes: 0  Impropertypes: 0\n",
      "Info)    Residues: 250\n",
      "Info)    Waters: 0\n",
      "Info)    Segments: 1\n",
      "Info)    Fragments: 250   Protein: 0   Nucleic: 0\n",
      "Info) VMD for LINUXAMD64, version 1.9.4a37 (August 27, 2019)\n",
      "Info) Exiting normally.\n"
     ]
    },
    {
     "data": {
      "text/plain": [
       "CompletedProcess(args=['vmd', 'febccbulk.pdb'], returncode=0)"
      ]
     },
     "execution_count": 14,
     "metadata": {},
     "output_type": "execute_result"
    }
   ],
   "source": [
    "from ase.build import bulk\n",
    "from ase.visualize import view\n",
    "import subprocess\n",
    "\n",
    "febcc_bulk = bulk(name='Fe', crystalstructure='bcc', a=2.86, orthorhombic=True)\n",
    "febcc_bulk = febcc_bulk.repeat((5, 5, 5))\n",
    "write('febccbulk.pdb', febcc_bulk)\n",
    "view(febcc_bulk)\n",
    "subprocess.run(['vmd', 'febccbulk.pdb'])"
   ]
  },
  {
   "cell_type": "code",
   "execution_count": 15,
   "id": "f631ce7b-d2cb-4c78-83f8-20a6265e3cb8",
   "metadata": {},
   "outputs": [
    {
     "name": "stderr",
     "output_type": "stream",
     "text": [
      "/usr/local/lib/vmd/vmd_LINUXAMD64: /usr/lib/x86_64-linux-gnu/libGL.so.1: no version information available (required by /usr/local/lib/vmd/vmd_LINUXAMD64)\n"
     ]
    },
    {
     "name": "stdout",
     "output_type": "stream",
     "text": [
      "Info) VMD for LINUXAMD64, version 1.9.4a37 (August 27, 2019)\n",
      "Info) http://www.ks.uiuc.edu/Research/vmd/                         \n",
      "Info) Email questions and bug reports to vmd@ks.uiuc.edu           \n",
      "Info) Please include this reference in published work using VMD:   \n",
      "Info)    Humphrey, W., Dalke, A. and Schulten, K., `VMD - Visual   \n",
      "Info)    Molecular Dynamics', J. Molec. Graphics 1996, 14.1, 33-38.\n",
      "Info) -------------------------------------------------------------\n",
      "Info) Multithreading available, 6 CPUs detected.\n",
      "Info)   CPU features: SSE2 AVX AVX2 FMA \n",
      "Info) Free system memory: 4769MB (61%)\n",
      "Info) No CUDA accelerator devices available.\n",
      "Warning) Detected X11 'Composite' extension: if incorrect display occurs\n",
      "Warning) try disabling this X server option.  Most OpenGL drivers\n",
      "Warning) disable stereoscopic display when 'Composite' is enabled.\n",
      "Info) OpenGL renderer: Mesa Intel(R) UHD Graphics 630 (CFL GT2)\n",
      "Info)   Features: STENCIL MSAA(4) MDE CVA MTX NPOT PP PS GLSL(OVFS) \n",
      "Info)   Full GLSL rendering mode is available.\n",
      "Info)   Textures: 2-D (16384x16384), 3-D (512x512x512), Multitexture (8)\n",
      "Info) Dynamically loaded 3 plugins in directory:\n",
      "Info) /usr/local/lib/vmd/plugins/LINUXAMD64/molfile\n",
      "OptiXRenderer) ERROR: Failed to load the OptiX shared library.\n",
      "OptiXRenderer)        NVIDIA driver may be too old.\n",
      "OptiXRenderer)        Check/update NVIDIA driver\n",
      "Info) File loading in progress, please wait.\n",
      "Info) Using plugin pdb for structure file fefccbulk.pdb\n",
      "Info) Using plugin pdb for coordinates from file fefccbulk.pdb\n",
      "Info) Determining bond structure from distance search ...\n",
      "Info) Finished with coordinate file fefccbulk.pdb.\n",
      "Info) Analyzing structure ...\n",
      "Info)    Atoms: 250\n",
      "Info)    Bonds: 0\n",
      "Info)    Angles: 0  Dihedrals: 0  Impropers: 0  Cross-terms: 0\n",
      "Info)    Bondtypes: 0  Angletypes: 0  Dihedraltypes: 0  Impropertypes: 0\n",
      "Info)    Residues: 250\n",
      "Info)    Waters: 0\n",
      "Info)    Segments: 1\n",
      "Info)    Fragments: 250   Protein: 0   Nucleic: 0\n",
      "Info) VMD for LINUXAMD64, version 1.9.4a37 (August 27, 2019)\n",
      "Info) Exiting normally.\n"
     ]
    },
    {
     "data": {
      "text/plain": [
       "CompletedProcess(args=['vmd', 'fefccbulk.pdb'], returncode=0)"
      ]
     },
     "execution_count": 15,
     "metadata": {},
     "output_type": "execute_result"
    }
   ],
   "source": [
    "from ase.build import bulk\n",
    "from ase.visualize import view\n",
    "import subprocess\n",
    "\n",
    "fefcc_bulk = bulk(name='Fe', crystalstructure='fcc', a=3.58, orthorhombic=True)\n",
    "fefcc_bulk = fefcc_bulk.repeat((5, 5, 5))\n",
    "write('fefccbulk.pdb', fefcc_bulk)\n",
    "view(fefcc_bulk)\n",
    "subprocess.run(['vmd', 'fefccbulk.pdb'])"
   ]
  },
  {
   "cell_type": "code",
   "execution_count": 16,
   "id": "d2b0e7f2-83a9-445f-b912-f17833f93c7d",
   "metadata": {},
   "outputs": [],
   "source": [
    "from ase.build import fcc111, fcc100, fcc110, bcc100, bcc110, bcc111\n",
    "from ase.io import write\n",
    "import numpy as np\n",
    "\n",
    "Fe_a_bcc = 2.86 \n",
    "Fe_a_fcc = 3.58  \n",
    "size = (6, 6, 3) \n",
    "vacuum = 10.0  \n",
    "Febcc100 = bcc100('Fe', size, a=Fe_a_bcc, vacuum=vacuum, orthogonal=True)\n",
    "Febcc110 = bcc110('Fe', size, a=Fe_a_bcc, vacuum=vacuum, orthogonal=True)\n",
    "Febcc111 = bcc111('Fe', size, a=Fe_a_bcc, vacuum=vacuum, orthogonal=True)\n",
    "Fefcc100 = fcc100('Fe', size, a=Fe_a_fcc, vacuum=vacuum, orthogonal=True)\n",
    "Fefcc110 = fcc110('Fe', size, a=Fe_a_fcc, vacuum=vacuum, orthogonal=True)\n",
    "Fefcc111 = fcc111('Fe', size, a=Fe_a_fcc, vacuum=vacuum, orthogonal=True)\n",
    "\n",
    "write('Febcc100.pdb', Febcc100)\n",
    "write('Febcc110.pdb', Febcc110)\n",
    "write('Febcc111.pdb', Febcc111)\n",
    "write('Fefcc100.pdb', Fefcc100)\n",
    "write('Fefcc110.pdb', Fefcc110)\n",
    "write('Fefcc111.pdb', Fefcc111)\n",
    "\n"
   ]
  },
  {
   "cell_type": "code",
   "execution_count": 37,
   "id": "55c5c2dc-2eff-47d7-88a1-f14a75f05339",
   "metadata": {},
   "outputs": [
    {
     "data": {
      "text/plain": [
       "<Popen: returncode: None args: ['/home/anusha/anaconda3/bin/python', '-m', '...>"
      ]
     },
     "execution_count": 37,
     "metadata": {},
     "output_type": "execute_result"
    }
   ],
   "source": [
    "view(Fefcc100)\n"
   ]
  },
  {
   "cell_type": "code",
   "execution_count": 38,
   "id": "db588383-7edc-458b-ad6f-532815cf4e3d",
   "metadata": {},
   "outputs": [
    {
     "data": {
      "text/plain": [
       "<Popen: returncode: None args: ['/home/anusha/anaconda3/bin/python', '-m', '...>"
      ]
     },
     "execution_count": 38,
     "metadata": {},
     "output_type": "execute_result"
    }
   ],
   "source": [
    "view(Fefcc110)\n"
   ]
  },
  {
   "cell_type": "code",
   "execution_count": 39,
   "id": "73a87f03-058b-45e0-a9c0-95efe01e1c40",
   "metadata": {},
   "outputs": [
    {
     "data": {
      "text/plain": [
       "<Popen: returncode: None args: ['/home/anusha/anaconda3/bin/python', '-m', '...>"
      ]
     },
     "execution_count": 39,
     "metadata": {},
     "output_type": "execute_result"
    }
   ],
   "source": [
    "view(Fefcc111)\n"
   ]
  },
  {
   "cell_type": "code",
   "execution_count": 40,
   "id": "541de45f-8b8a-4139-ae34-20ce2bf75c8f",
   "metadata": {},
   "outputs": [
    {
     "data": {
      "text/plain": [
       "<Popen: returncode: None args: ['/home/anusha/anaconda3/bin/python', '-m', '...>"
      ]
     },
     "execution_count": 40,
     "metadata": {},
     "output_type": "execute_result"
    }
   ],
   "source": [
    "view(Febcc100)\n"
   ]
  },
  {
   "cell_type": "code",
   "execution_count": 41,
   "id": "12b35ea0-90f6-44ce-8cd9-43fd76472d8e",
   "metadata": {},
   "outputs": [
    {
     "data": {
      "text/plain": [
       "<Popen: returncode: None args: ['/home/anusha/anaconda3/bin/python', '-m', '...>"
      ]
     },
     "execution_count": 41,
     "metadata": {},
     "output_type": "execute_result"
    }
   ],
   "source": [
    "view(Febcc110)\n"
   ]
  },
  {
   "cell_type": "code",
   "execution_count": 42,
   "id": "b941d619-3bd8-49d6-936e-a521a5c73f13",
   "metadata": {},
   "outputs": [
    {
     "data": {
      "text/plain": [
       "<Popen: returncode: None args: ['/home/anusha/anaconda3/bin/python', '-m', '...>"
      ]
     },
     "execution_count": 42,
     "metadata": {},
     "output_type": "execute_result"
    }
   ],
   "source": [
    "view(Febcc111)"
   ]
  },
  {
   "cell_type": "code",
   "execution_count": 17,
   "id": "de1e5a67-ad4d-41d5-aa90-a3a485177022",
   "metadata": {},
   "outputs": [
    {
     "name": "stderr",
     "output_type": "stream",
     "text": [
      "/usr/local/lib/vmd/vmd_LINUXAMD64: /usr/lib/x86_64-linux-gnu/libGL.so.1: no version information available (required by /usr/local/lib/vmd/vmd_LINUXAMD64)\n"
     ]
    },
    {
     "name": "stdout",
     "output_type": "stream",
     "text": [
      "Info) VMD for LINUXAMD64, version 1.9.4a37 (August 27, 2019)\n",
      "Info) http://www.ks.uiuc.edu/Research/vmd/                         \n",
      "Info) Email questions and bug reports to vmd@ks.uiuc.edu           \n",
      "Info) Please include this reference in published work using VMD:   \n",
      "Info)    Humphrey, W., Dalke, A. and Schulten, K., `VMD - Visual   \n",
      "Info)    Molecular Dynamics', J. Molec. Graphics 1996, 14.1, 33-38.\n",
      "Info) -------------------------------------------------------------\n",
      "Info) Multithreading available, 6 CPUs detected.\n",
      "Info)   CPU features: SSE2 AVX AVX2 FMA \n",
      "Info) Free system memory: 4763MB (61%)\n",
      "Info) No CUDA accelerator devices available.\n",
      "Warning) Detected X11 'Composite' extension: if incorrect display occurs\n",
      "Warning) try disabling this X server option.  Most OpenGL drivers\n",
      "Warning) disable stereoscopic display when 'Composite' is enabled.\n",
      "Info) OpenGL renderer: Mesa Intel(R) UHD Graphics 630 (CFL GT2)\n",
      "Info)   Features: STENCIL MSAA(4) MDE CVA MTX NPOT PP PS GLSL(OVFS) \n",
      "Info)   Full GLSL rendering mode is available.\n",
      "Info)   Textures: 2-D (16384x16384), 3-D (512x512x512), Multitexture (8)\n",
      "Info) Dynamically loaded 3 plugins in directory:\n",
      "Info) /usr/local/lib/vmd/plugins/LINUXAMD64/molfile\n",
      "OptiXRenderer) ERROR: Failed to load the OptiX shared library.\n",
      "OptiXRenderer)        NVIDIA driver may be too old.\n",
      "OptiXRenderer)        Check/update NVIDIA driver\n",
      "Info) File loading in progress, please wait.\n",
      "Info) Using plugin pdb for structure file aubulk.pdb\n",
      "Info) Using plugin pdb for coordinates from file aubulk.pdb\n",
      "Info) Determining bond structure from distance search ...\n",
      "Info) Finished with coordinate file aubulk.pdb.\n",
      "Info) Analyzing structure ...\n",
      "Info)    Atoms: 250\n",
      "Info)    Bonds: 0\n",
      "Info)    Angles: 0  Dihedrals: 0  Impropers: 0  Cross-terms: 0\n",
      "Info)    Bondtypes: 0  Angletypes: 0  Dihedraltypes: 0  Impropertypes: 0\n",
      "Info)    Residues: 250\n",
      "Info)    Waters: 0\n",
      "Info)    Segments: 1\n",
      "Info)    Fragments: 250   Protein: 0   Nucleic: 0\n",
      "Info) VMD for LINUXAMD64, version 1.9.4a37 (August 27, 2019)\n",
      "Info) Exiting normally.\n"
     ]
    },
    {
     "data": {
      "text/plain": [
       "CompletedProcess(args=['vmd', 'aubulk.pdb'], returncode=0)"
      ]
     },
     "execution_count": 17,
     "metadata": {},
     "output_type": "execute_result"
    }
   ],
   "source": [
    "from ase.build import bulk\n",
    "from ase.visualize import view\n",
    "import subprocess\n",
    "\n",
    "gold_bulk = bulk(name='Au', crystalstructure='fcc', a=4.08, orthorhombic=True)\n",
    "gold_bulk = gold_bulk.repeat((5, 5, 5))\n",
    "write('aubulk.pdb', gold_bulk)\n",
    "view(gold_bulk)\n",
    "subprocess.run(['vmd', 'aubulk.pdb'])"
   ]
  },
  {
   "cell_type": "code",
   "execution_count": 18,
   "id": "c3eee533-d7eb-4f08-9246-52f3ae8c54c6",
   "metadata": {},
   "outputs": [],
   "source": [
    "from ase.build import fcc111, fcc100, fcc110\n",
    "from ase.io import write\n",
    "from ase.visualize import view\n",
    "import numpy as np\n",
    "\n",
    "a = 4.08 \n",
    "size = (6, 6, 3)  \n",
    "vacuum = 10.0 \n",
    "\n",
    "Aufcc100 = fcc100('Au', size, a=a, vacuum=vacuum, orthogonal=True)\n",
    "Aufcc110 = fcc110('Au', size, a=a, vacuum=vacuum, orthogonal=True)\n",
    "Aufcc111 = fcc111('Au', size, a=a, vacuum=vacuum, orthogonal=True)\n",
    "\n",
    "write('Aufcc100.pdb', Aufcc100)\n",
    "write('Aufcc110.pdb', Aufcc110)\n",
    "write('Aufcc111.pdb', Aufcc111)\n"
   ]
  },
  {
   "cell_type": "code",
   "execution_count": 44,
   "id": "7c2edb05-b2a4-4773-b6c8-1af1fc9930fd",
   "metadata": {},
   "outputs": [
    {
     "data": {
      "text/plain": [
       "<Popen: returncode: None args: ['/home/anusha/anaconda3/bin/python', '-m', '...>"
      ]
     },
     "execution_count": 44,
     "metadata": {},
     "output_type": "execute_result"
    }
   ],
   "source": [
    "view(Aufcc100)\n"
   ]
  },
  {
   "cell_type": "code",
   "execution_count": 45,
   "id": "f5d77377-42d2-4856-a119-19d9b3c31e25",
   "metadata": {},
   "outputs": [
    {
     "data": {
      "text/plain": [
       "<Popen: returncode: None args: ['/home/anusha/anaconda3/bin/python', '-m', '...>"
      ]
     },
     "execution_count": 45,
     "metadata": {},
     "output_type": "execute_result"
    }
   ],
   "source": [
    "view(Aufcc110)\n"
   ]
  },
  {
   "cell_type": "code",
   "execution_count": 46,
   "id": "2b30e5c3-ac55-4ef7-8095-fc358900848e",
   "metadata": {},
   "outputs": [
    {
     "data": {
      "text/plain": [
       "<Popen: returncode: None args: ['/home/anusha/anaconda3/bin/python', '-m', '...>"
      ]
     },
     "execution_count": 46,
     "metadata": {},
     "output_type": "execute_result"
    }
   ],
   "source": [
    "view(Aufcc111)"
   ]
  },
  {
   "cell_type": "code",
   "execution_count": 19,
   "id": "cee79a55-2848-4a13-b3f9-5daece1eec10",
   "metadata": {},
   "outputs": [
    {
     "name": "stderr",
     "output_type": "stream",
     "text": [
      "/usr/local/lib/vmd/vmd_LINUXAMD64: /usr/lib/x86_64-linux-gnu/libGL.so.1: no version information available (required by /usr/local/lib/vmd/vmd_LINUXAMD64)\n"
     ]
    },
    {
     "name": "stdout",
     "output_type": "stream",
     "text": [
      "Info) VMD for LINUXAMD64, version 1.9.4a37 (August 27, 2019)\n",
      "Info) http://www.ks.uiuc.edu/Research/vmd/                         \n",
      "Info) Email questions and bug reports to vmd@ks.uiuc.edu           \n",
      "Info) Please include this reference in published work using VMD:   \n",
      "Info)    Humphrey, W., Dalke, A. and Schulten, K., `VMD - Visual   \n",
      "Info)    Molecular Dynamics', J. Molec. Graphics 1996, 14.1, 33-38.\n",
      "Info) -------------------------------------------------------------\n",
      "Info) Multithreading available, 6 CPUs detected.\n",
      "Info)   CPU features: SSE2 AVX AVX2 FMA \n",
      "Info) Free system memory: 4764MB (61%)\n",
      "Info) No CUDA accelerator devices available.\n",
      "Warning) Detected X11 'Composite' extension: if incorrect display occurs\n",
      "Warning) try disabling this X server option.  Most OpenGL drivers\n",
      "Warning) disable stereoscopic display when 'Composite' is enabled.\n",
      "Info) OpenGL renderer: Mesa Intel(R) UHD Graphics 630 (CFL GT2)\n",
      "Info)   Features: STENCIL MSAA(4) MDE CVA MTX NPOT PP PS GLSL(OVFS) \n",
      "Info)   Full GLSL rendering mode is available.\n",
      "Info)   Textures: 2-D (16384x16384), 3-D (512x512x512), Multitexture (8)\n",
      "Info) Dynamically loaded 3 plugins in directory:\n",
      "Info) /usr/local/lib/vmd/plugins/LINUXAMD64/molfile\n",
      "OptiXRenderer) ERROR: Failed to load the OptiX shared library.\n",
      "OptiXRenderer)        NVIDIA driver may be too old.\n",
      "OptiXRenderer)        Check/update NVIDIA driver\n",
      "Info) File loading in progress, please wait.\n",
      "Info) Using plugin pdb for structure file cubulk.pdb\n",
      "Info) Using plugin pdb for coordinates from file cubulk.pdb\n",
      "Info) Determining bond structure from distance search ...\n",
      "Info) Finished with coordinate file cubulk.pdb.\n",
      "Info) Analyzing structure ...\n",
      "Info)    Atoms: 250\n",
      "Info)    Bonds: 0\n",
      "Info)    Angles: 0  Dihedrals: 0  Impropers: 0  Cross-terms: 0\n",
      "Info)    Bondtypes: 0  Angletypes: 0  Dihedraltypes: 0  Impropertypes: 0\n",
      "Info)    Residues: 250\n",
      "Info)    Waters: 0\n",
      "Info)    Segments: 1\n",
      "Info)    Fragments: 250   Protein: 0   Nucleic: 0\n",
      "Info) VMD for LINUXAMD64, version 1.9.4a37 (August 27, 2019)\n",
      "Info) Exiting normally.\n"
     ]
    },
    {
     "data": {
      "text/plain": [
       "CompletedProcess(args=['vmd', 'cubulk.pdb'], returncode=0)"
      ]
     },
     "execution_count": 19,
     "metadata": {},
     "output_type": "execute_result"
    }
   ],
   "source": [
    "from ase.build import bulk\n",
    "from ase.visualize import view\n",
    "import subprocess\n",
    "\n",
    "cu_bulk = bulk(name='Cu', crystalstructure='fcc', a=3.61, orthorhombic=True)\n",
    "cu_bulk = cu_bulk.repeat((5, 5, 5))\n",
    "write('cubulk.pdb', cu_bulk)\n",
    "view(cu_bulk)\n",
    "subprocess.run(['vmd', 'cubulk.pdb'])"
   ]
  },
  {
   "cell_type": "code",
   "execution_count": 22,
   "id": "81866635-7374-48e5-8c78-6bb817a9799c",
   "metadata": {},
   "outputs": [],
   "source": [
    "from ase.build import fcc111, fcc100, fcc110\n",
    "from ase.io import write\n",
    "import numpy as np\n",
    "\n",
    "a = 3.61 \n",
    "size = (6, 6, 3)  \n",
    "vacuum = 10.0 \n",
    "\n",
    "Cufcc100 = fcc100('Cu', size, a=a, vacuum=vacuum, orthogonal=True)\n",
    "Cufcc110 = fcc110('Cu', size, a=a, vacuum=vacuum, orthogonal=True)\n",
    "Cufcc111 = fcc111('Cu', size, a=a, vacuum=vacuum, orthogonal=True)\n",
    "\n",
    "write('Cufcc100.pdb', Cufcc100)\n",
    "write('Cufcc110.pdb', Cufcc110)\n",
    "write('Cufcc111.pdb', Cufcc111)"
   ]
  },
  {
   "cell_type": "code",
   "execution_count": 48,
   "id": "6e8141dc-ad46-4b12-9a3a-37ddaad6a80f",
   "metadata": {},
   "outputs": [
    {
     "data": {
      "text/plain": [
       "<Popen: returncode: None args: ['/home/anusha/anaconda3/bin/python', '-m', '...>"
      ]
     },
     "execution_count": 48,
     "metadata": {},
     "output_type": "execute_result"
    }
   ],
   "source": [
    "view(Cufcc100)\n"
   ]
  },
  {
   "cell_type": "code",
   "execution_count": 49,
   "id": "9e98697a-27b5-45b5-ad8b-649e28c8f37d",
   "metadata": {},
   "outputs": [
    {
     "data": {
      "text/plain": [
       "<Popen: returncode: None args: ['/home/anusha/anaconda3/bin/python', '-m', '...>"
      ]
     },
     "execution_count": 49,
     "metadata": {},
     "output_type": "execute_result"
    }
   ],
   "source": [
    "view(Cufcc110)\n"
   ]
  },
  {
   "cell_type": "code",
   "execution_count": 50,
   "id": "c189109e-3478-45ea-ad2f-e70d5538a8df",
   "metadata": {},
   "outputs": [
    {
     "data": {
      "text/plain": [
       "<Popen: returncode: None args: ['/home/anusha/anaconda3/bin/python', '-m', '...>"
      ]
     },
     "execution_count": 50,
     "metadata": {},
     "output_type": "execute_result"
    }
   ],
   "source": [
    "view(Cufcc111)"
   ]
  },
  {
   "cell_type": "code",
   "execution_count": null,
   "id": "742c5824-36fa-4432-b5f6-5a29f4bbefbd",
   "metadata": {},
   "outputs": [],
   "source": []
  }
 ],
 "metadata": {
  "kernelspec": {
   "display_name": "Python 3 (ipykernel)",
   "language": "python",
   "name": "python3"
  },
  "language_info": {
   "codemirror_mode": {
    "name": "ipython",
    "version": 3
   },
   "file_extension": ".py",
   "mimetype": "text/x-python",
   "name": "python",
   "nbconvert_exporter": "python",
   "pygments_lexer": "ipython3",
   "version": "3.11.7"
  }
 },
 "nbformat": 4,
 "nbformat_minor": 5
}
